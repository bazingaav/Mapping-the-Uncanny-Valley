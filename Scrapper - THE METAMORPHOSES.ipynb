{
 "cells": [
  {
   "cell_type": "code",
   "execution_count": 1,
   "metadata": {},
   "outputs": [],
   "source": [
    "import requests\n",
    "from urllib import request, response, error, parse\n",
    "from urllib.request import urlopen\n",
    "from bs4 import BeautifulSoup"
   ]
  },
  {
   "cell_type": "code",
   "execution_count": 2,
   "metadata": {},
   "outputs": [],
   "source": [
    "urls = [\"http://www.gutenberg.org/files/21765/21765-h/files/Met_I-III.html\",\"http://www.gutenberg.org/files/21765/21765-h/files/Met_IV-VII.html\"]"
   ]
  },
  {
   "cell_type": "code",
   "execution_count": 3,
   "metadata": {},
   "outputs": [
    {
     "name": "stdout",
     "output_type": "stream",
     "text": [
      "Done\n"
     ]
    }
   ],
   "source": [
    "#Scrapping data from the above mentioned urls\n",
    "i = 1\n",
    "for url in urls:\n",
    "    html = urlopen(url)\n",
    "    soup = BeautifulSoup(html, \"lxml\")\n",
    "    tale_headings = soup.select('h5')\n",
    "    for tale_heading in tale_headings[1:-1]:\n",
    "        tale = \" \"\n",
    "        for sibling in tale_heading.next_siblings:\n",
    "            if(sibling.name == \"h6\"):\n",
    "                break;\n",
    "            try:\n",
    "                tale += sibling.get_text()\n",
    "            except:\n",
    "                pass\n",
    "        if(tale!=\" \"):\n",
    "            text_file = open(\"tale_\"+str(i)+\".txt\",\"w\",encoding=\"utf-8\")\n",
    "            n = text_file.write(tale)\n",
    "            text_file.close()\n",
    "            i+=1\n",
    "print(\"Done\")"
   ]
  },
  {
   "cell_type": "code",
   "execution_count": 4,
   "metadata": {},
   "outputs": [
    {
     "name": "stdout",
     "output_type": "stream",
     "text": [
      "Done\n"
     ]
    }
   ],
   "source": [
    "for i in range(1,40):\n",
    "    with open(\"tale_\"+str(i)+\".txt\",encoding='utf-8') as f:\n",
    "        #data contains reference numbers that need to be removed - the below line will just remove the numbers\n",
    "        data = ''.join(i for i in f.read() if not i.isdigit())\n",
    "        #The below line is used to clean other particular type of screen that is left after numbers are deleted\n",
    "        data = data.replace('I. -', '')\n",
    "\n",
    "    with open(\"tale_\"+str(i)+\".txt\", 'w',encoding=\"utf-8\") as f:\n",
    "        f.write(data)\n",
    "        \n",
    "print(\"Done\")"
   ]
  },
  {
   "cell_type": "code",
   "execution_count": null,
   "metadata": {},
   "outputs": [],
   "source": []
  }
 ],
 "metadata": {
  "kernelspec": {
   "display_name": "Python 3",
   "language": "python",
   "name": "python3"
  },
  "language_info": {
   "codemirror_mode": {
    "name": "ipython",
    "version": 3
   },
   "file_extension": ".py",
   "mimetype": "text/x-python",
   "name": "python",
   "nbconvert_exporter": "python",
   "pygments_lexer": "ipython3",
   "version": "3.7.4"
  }
 },
 "nbformat": 4,
 "nbformat_minor": 2
}
